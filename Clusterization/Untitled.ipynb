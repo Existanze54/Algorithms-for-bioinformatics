{
 "cells": [
  {
   "cell_type": "code",
   "execution_count": 2,
   "id": "f2e87e3f-9a6f-4c9d-8c39-0447b64944cc",
   "metadata": {},
   "outputs": [
    {
     "ename": "AttributeError",
     "evalue": "'list' object has no attribute 'mean'",
     "output_type": "error",
     "traceback": [
      "\u001b[1;31m---------------------------------------------------------------------------\u001b[0m",
      "\u001b[1;31mAttributeError\u001b[0m                            Traceback (most recent call last)",
      "\u001b[1;32m~\\AppData\\Local\\Temp/ipykernel_21792/3344984373.py\u001b[0m in \u001b[0;36m<module>\u001b[1;34m\u001b[0m\n\u001b[0;32m      1\u001b[0m \u001b[0mx\u001b[0m \u001b[1;33m=\u001b[0m \u001b[1;33m[\u001b[0m\u001b[1;36m1\u001b[0m\u001b[1;33m,\u001b[0m \u001b[1;36m2\u001b[0m\u001b[1;33m,\u001b[0m \u001b[1;36m3\u001b[0m\u001b[1;33m]\u001b[0m\u001b[1;33m\u001b[0m\u001b[1;33m\u001b[0m\u001b[0m\n\u001b[1;32m----> 2\u001b[1;33m \u001b[0mprint\u001b[0m\u001b[1;33m(\u001b[0m\u001b[0mx\u001b[0m\u001b[1;33m.\u001b[0m\u001b[0mmean\u001b[0m\u001b[1;33m(\u001b[0m\u001b[1;33m)\u001b[0m\u001b[1;33m)\u001b[0m\u001b[1;33m\u001b[0m\u001b[1;33m\u001b[0m\u001b[0m\n\u001b[0m",
      "\u001b[1;31mAttributeError\u001b[0m: 'list' object has no attribute 'mean'"
     ]
    }
   ],
   "source": [
    "x = [1, 2, 3]\n",
    "print(x.mean())"
   ]
  },
  {
   "cell_type": "code",
   "execution_count": 4,
   "id": "f2b05430-a11c-4e2c-b3e0-35134f7123c4",
   "metadata": {},
   "outputs": [
    {
     "name": "stdout",
     "output_type": "stream",
     "text": [
      "1 2\n"
     ]
    }
   ],
   "source": [
    "A = [[1, 2, 3], [3, 1, 2], [2, 1, 3]]\n",
    "x = [3, 5, 1, 4]\n",
    "val_min, index_min = min((val, index) for (index, val) in enumerate(x))\n",
    "print(val_min, index_min)"
   ]
  },
  {
   "cell_type": "code",
   "execution_count": 45,
   "id": "aa5f5acf-bc50-439e-b9cd-0137c7d842de",
   "metadata": {},
   "outputs": [
    {
     "name": "stdout",
     "output_type": "stream",
     "text": [
      "0.9149095219913201\n"
     ]
    }
   ],
   "source": [
    "import numpy as np\n",
    "import random\n",
    "\n",
    "centroids = np.random.sample((5, 3))\n",
    "print(centroids.max())"
   ]
  },
  {
   "cell_type": "code",
   "execution_count": 13,
   "id": "b1f21f2a-915c-4474-83b3-a0a75b6079b1",
   "metadata": {},
   "outputs": [
    {
     "name": "stdout",
     "output_type": "stream",
     "text": [
      "[5]\n"
     ]
    }
   ],
   "source": [
    "x = [1, 5, 3]\n",
    "y = [elem for elem in x if elem > 3]\n",
    "print(y)"
   ]
  },
  {
   "cell_type": "code",
   "execution_count": 14,
   "id": "adef9e51-b03c-423b-aa26-03d0bb7bd8f3",
   "metadata": {},
   "outputs": [
    {
     "data": {
      "text/plain": [
       "False"
      ]
     },
     "execution_count": 14,
     "metadata": {},
     "output_type": "execute_result"
    }
   ],
   "source": [
    "x = [1, 2, 3]\n",
    "y = [2, 3, 4]\n",
    "np.allclose(x, y, atol=0.01)"
   ]
  },
  {
   "cell_type": "code",
   "execution_count": 20,
   "id": "e007cc06-5e6d-47c6-86bc-dcc87c729236",
   "metadata": {},
   "outputs": [],
   "source": [
    "B = [[-1, -1, -1]  for i in range(5)]"
   ]
  },
  {
   "cell_type": "code",
   "execution_count": 21,
   "id": "9621888e-a918-4e05-92a8-82dcc1586faa",
   "metadata": {},
   "outputs": [
    {
     "name": "stdout",
     "output_type": "stream",
     "text": [
      "[[-1, -1, -1], [-1, -1, -1], [-1, -1, -1], [-1, -1, -1], [-1, -1, -1]]\n"
     ]
    }
   ],
   "source": [
    "print(B)"
   ]
  },
  {
   "cell_type": "code",
   "execution_count": 24,
   "id": "06b33f1c-1343-4e2a-9818-4f828615641a",
   "metadata": {},
   "outputs": [
    {
     "name": "stdout",
     "output_type": "stream",
     "text": [
      "[0, 0, 7, 0, 0]\n"
     ]
    }
   ],
   "source": [
    "B = [0] * 5\n",
    "B[2] = 7\n",
    "print(B)"
   ]
  },
  {
   "cell_type": "code",
   "execution_count": 25,
   "id": "c3922521-9b45-457f-bf1f-5788e91ff24e",
   "metadata": {},
   "outputs": [
    {
     "name": "stdout",
     "output_type": "stream",
     "text": [
      "8.5\n"
     ]
    }
   ],
   "source": [
    "dist = [[1, 2, 3], [4, 5, 6]]\n",
    "print((1 / len(dist)) * sum(min(distances) ** 2 for distances in dist))"
   ]
  },
  {
   "cell_type": "code",
   "execution_count": 26,
   "id": "794a9d61-4688-4098-bbb4-ca1f2ce0a5b8",
   "metadata": {},
   "outputs": [
    {
     "data": {
      "text/plain": [
       "array([[0.9599682 , 0.45725353, 0.8327488 ],\n",
       "       [0.23095739, 0.75689764, 0.82303936],\n",
       "       [0.10602341, 0.92504492, 0.04511053],\n",
       "       [0.54040987, 0.58872306, 0.80217294],\n",
       "       [0.4594262 , 0.03467153, 0.08860756]])"
      ]
     },
     "execution_count": 26,
     "metadata": {},
     "output_type": "execute_result"
    }
   ],
   "source": [
    "np.random.sample((5, 3))"
   ]
  },
  {
   "cell_type": "code",
   "execution_count": 28,
   "id": "e209cf0f-4881-4411-96f8-70fedd325851",
   "metadata": {},
   "outputs": [
    {
     "ename": "TypeError",
     "evalue": "unsupported operand type(s) for +: 'int' and 'list'",
     "output_type": "error",
     "traceback": [
      "\u001b[1;31m---------------------------------------------------------------------------\u001b[0m",
      "\u001b[1;31mTypeError\u001b[0m                                 Traceback (most recent call last)",
      "\u001b[1;32m~\\AppData\\Local\\Temp/ipykernel_21792/2402623118.py\u001b[0m in \u001b[0;36m<module>\u001b[1;34m\u001b[0m\n\u001b[0;32m      1\u001b[0m \u001b[0mcluster\u001b[0m \u001b[1;33m=\u001b[0m \u001b[1;33m[\u001b[0m\u001b[1;33m[\u001b[0m\u001b[1;36m1\u001b[0m\u001b[1;33m,\u001b[0m \u001b[1;36m2\u001b[0m\u001b[1;33m,\u001b[0m \u001b[1;36m3\u001b[0m\u001b[1;33m]\u001b[0m\u001b[1;33m,\u001b[0m \u001b[1;33m[\u001b[0m\u001b[1;36m4\u001b[0m\u001b[1;33m,\u001b[0m \u001b[1;36m5\u001b[0m\u001b[1;33m,\u001b[0m \u001b[1;36m6\u001b[0m\u001b[1;33m]\u001b[0m\u001b[1;33m,\u001b[0m \u001b[1;33m[\u001b[0m\u001b[1;36m7\u001b[0m\u001b[1;33m,\u001b[0m \u001b[1;36m8\u001b[0m\u001b[1;33m,\u001b[0m \u001b[1;36m9\u001b[0m\u001b[1;33m]\u001b[0m\u001b[1;33m]\u001b[0m\u001b[1;33m\u001b[0m\u001b[1;33m\u001b[0m\u001b[0m\n\u001b[1;32m----> 2\u001b[1;33m \u001b[0mprint\u001b[0m\u001b[1;33m(\u001b[0m\u001b[0msum\u001b[0m\u001b[1;33m(\u001b[0m\u001b[0mcluster\u001b[0m\u001b[1;33m)\u001b[0m\u001b[1;33m)\u001b[0m\u001b[1;33m\u001b[0m\u001b[1;33m\u001b[0m\u001b[0m\n\u001b[0m\u001b[0;32m      3\u001b[0m \u001b[1;31m#print((1 / len(cluster)) * sum(cluster))\u001b[0m\u001b[1;33m\u001b[0m\u001b[1;33m\u001b[0m\u001b[0m\n",
      "\u001b[1;31mTypeError\u001b[0m: unsupported operand type(s) for +: 'int' and 'list'"
     ]
    }
   ],
   "source": [
    "cluster = [[1, 2, 3], [4, 5, 6], [7, 8, 9]]\n",
    "print(sum(cluster))\n",
    "#print((1 / len(cluster)) * sum(cluster))"
   ]
  },
  {
   "cell_type": "code",
   "execution_count": 34,
   "id": "506ee757-eb46-4409-95a2-4e293f98a715",
   "metadata": {},
   "outputs": [
    {
     "ename": "TypeError",
     "evalue": "unsupported operand type(s) for +: 'int' and 'list'",
     "output_type": "error",
     "traceback": [
      "\u001b[1;31m---------------------------------------------------------------------------\u001b[0m",
      "\u001b[1;31mTypeError\u001b[0m                                 Traceback (most recent call last)",
      "\u001b[1;32m~\\AppData\\Local\\Temp/ipykernel_21792/958974550.py\u001b[0m in \u001b[0;36m<module>\u001b[1;34m\u001b[0m\n\u001b[0;32m      1\u001b[0m \u001b[0mX\u001b[0m \u001b[1;33m=\u001b[0m \u001b[1;33m[\u001b[0m\u001b[1;33m[\u001b[0m\u001b[1;36m0.78431374\u001b[0m\u001b[1;33m,\u001b[0m \u001b[1;36m0.45490196\u001b[0m\u001b[1;33m,\u001b[0m \u001b[1;36m0.21960784\u001b[0m\u001b[1;33m]\u001b[0m\u001b[1;33m,\u001b[0m \u001b[1;33m[\u001b[0m\u001b[1;36m0.7921569\u001b[0m\u001b[1;33m,\u001b[0m \u001b[1;36m0.45490196\u001b[0m\u001b[1;33m,\u001b[0m \u001b[1;36m0.21568628\u001b[0m\u001b[1;33m]\u001b[0m\u001b[1;33m,\u001b[0m \u001b[1;33m[\u001b[0m\u001b[1;36m0.78039217\u001b[0m\u001b[1;33m,\u001b[0m \u001b[1;36m0.4509804\u001b[0m\u001b[1;33m,\u001b[0m \u001b[1;36m0.20784314\u001b[0m\u001b[1;33m]\u001b[0m\u001b[1;33m,\u001b[0m \u001b[1;33m[\u001b[0m\u001b[1;36m0.76862746\u001b[0m\u001b[1;33m,\u001b[0m \u001b[1;36m0.44705883\u001b[0m\u001b[1;33m,\u001b[0m \u001b[1;36m0.21960784\u001b[0m\u001b[1;33m]\u001b[0m\u001b[1;33m]\u001b[0m\u001b[1;33m\u001b[0m\u001b[1;33m\u001b[0m\u001b[0m\n\u001b[0;32m      2\u001b[0m \u001b[0mcluster\u001b[0m \u001b[1;33m=\u001b[0m \u001b[1;33m[\u001b[0m\u001b[0mvertex\u001b[0m \u001b[1;32mfor\u001b[0m \u001b[1;33m(\u001b[0m\u001b[0mindex\u001b[0m\u001b[1;33m,\u001b[0m \u001b[0mvertex\u001b[0m\u001b[1;33m)\u001b[0m \u001b[1;32min\u001b[0m \u001b[0menumerate\u001b[0m\u001b[1;33m(\u001b[0m\u001b[0mX\u001b[0m\u001b[1;33m)\u001b[0m\u001b[1;33m]\u001b[0m\u001b[1;33m\u001b[0m\u001b[1;33m\u001b[0m\u001b[0m\n\u001b[1;32m----> 3\u001b[1;33m \u001b[0mprint\u001b[0m\u001b[1;33m(\u001b[0m\u001b[0msum\u001b[0m\u001b[1;33m(\u001b[0m\u001b[0mcluster\u001b[0m\u001b[1;33m)\u001b[0m\u001b[1;33m)\u001b[0m\u001b[1;33m\u001b[0m\u001b[1;33m\u001b[0m\u001b[0m\n\u001b[0m",
      "\u001b[1;31mTypeError\u001b[0m: unsupported operand type(s) for +: 'int' and 'list'"
     ]
    }
   ],
   "source": [
    "X = [[0.78431374, 0.45490196, 0.21960784], [0.7921569, 0.45490196, 0.21568628], [0.78039217, 0.4509804, 0.20784314], [0.76862746, 0.44705883, 0.21960784]]\n",
    "cluster = [vertex for (index, vertex) in enumerate(X)] \n",
    "print(sum(cluster))"
   ]
  },
  {
   "cell_type": "code",
   "execution_count": 38,
   "id": "02b900f4-cfe1-4df3-870a-ef2744d4fa10",
   "metadata": {},
   "outputs": [
    {
     "name": "stdout",
     "output_type": "stream",
     "text": [
      "[0.7813725675000001, 0.4519607875, 0.215686275]\n",
      "[4.0, 3.0]\n"
     ]
    }
   ],
   "source": [
    "def center_of_gravity(vertices):        \n",
    "    return [(1 / len(vertices)) * sum(vertex[i] for vertex in vertices) for i in range(len(vertices[0]))]\n",
    "print(center_of_gravity(X))\n",
    "\n",
    "Y = [[2, 3], [4, 1], [6, 5]]\n",
    "print(center_of_gravity(Y))"
   ]
  },
  {
   "cell_type": "code",
   "execution_count": null,
   "id": "17fcee22-d6ee-405f-9832-ab434f5e0923",
   "metadata": {},
   "outputs": [],
   "source": [
    "def metric(X, Y):\n",
    "    m = 0\n",
    "    for x, y in range(len(x)):\n",
    "        m += (x[i] - y[i]) ** 2\n",
    "    return m ** 0.5"
   ]
  },
  {
   "cell_type": "code",
   "execution_count": 1,
   "id": "9cdff9bd-f92d-495c-9166-3d7f038ad59a",
   "metadata": {},
   "outputs": [
    {
     "name": "stdout",
     "output_type": "stream",
     "text": [
      "[[8, [4, 6]], [9, [2, 3, 5]]]\n"
     ]
    }
   ],
   "source": [
    "\n",
    "x = [[9, [2, 3, 5]], [8, [4, 6]]]\n",
    "x.sort()\n",
    "print(x)"
   ]
  },
  {
   "cell_type": "code",
   "execution_count": null,
   "id": "c922f753-fa3b-48b7-b57b-f482df10e047",
   "metadata": {},
   "outputs": [],
   "source": []
  }
 ],
 "metadata": {
  "kernelspec": {
   "display_name": "Python 3 (ipykernel)",
   "language": "python",
   "name": "python3"
  },
  "language_info": {
   "codemirror_mode": {
    "name": "ipython",
    "version": 3
   },
   "file_extension": ".py",
   "mimetype": "text/x-python",
   "name": "python",
   "nbconvert_exporter": "python",
   "pygments_lexer": "ipython3",
   "version": "3.9.7"
  }
 },
 "nbformat": 4,
 "nbformat_minor": 5
}
